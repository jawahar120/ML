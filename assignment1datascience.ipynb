{
  "nbformat": 4,
  "nbformat_minor": 0,
  "metadata": {
    "colab": {
      "provenance": [],
      "authorship_tag": "ABX9TyOvI+0cU5SRFMUAyG/C0L5c",
      "include_colab_link": true
    },
    "kernelspec": {
      "name": "python3",
      "display_name": "Python 3"
    },
    "language_info": {
      "name": "python"
    }
  },
  "cells": [
    {
      "cell_type": "markdown",
      "metadata": {
        "id": "view-in-github",
        "colab_type": "text"
      },
      "source": [
        "<a href=\"https://colab.research.google.com/github/jawahar120/ML/blob/main/assignment1datascience.ipynb\" target=\"_parent\"><img src=\"https://colab.research.google.com/assets/colab-badge.svg\" alt=\"Open In Colab\"/></a>"
      ]
    },
    {
      "cell_type": "code",
      "execution_count": 1,
      "metadata": {
        "colab": {
          "base_uri": "https://localhost:8080/"
        },
        "id": "x7xUYWeNfKJC",
        "outputId": "2a5045c9-cd3a-4df4-9090-d3d100b8ff83"
      },
      "outputs": [
        {
          "output_type": "stream",
          "name": "stdout",
          "text": [
            "('aman', '222', 777, 400.4)\n"
          ]
        }
      ],
      "source": [
        "s = [\"aman\", \"222\", 777, 400.4]\n",
        "print(tuple(s))"
      ]
    },
    {
      "cell_type": "code",
      "source": [
        "d = {\"jawahar\":[\"CB.EN.U4CSE20120\", \"JAWAHAR REDDY\", \"DUDDUKUNTA\", \"30-05-2002\"]}\n",
        "print(d.values(),d.keys())"
      ],
      "metadata": {
        "colab": {
          "base_uri": "https://localhost:8080/"
        },
        "id": "82eIkP9ffpFh",
        "outputId": "60bd9efe-52b6-4011-ccf8-62172efff650"
      },
      "execution_count": 2,
      "outputs": [
        {
          "output_type": "stream",
          "name": "stdout",
          "text": [
            "dict_values([['CB.EN.U4CSE20120', 'JAWAHAR REDDY', 'DUDDUKUNTA', '30-05-2002']]) dict_keys(['jawahar'])\n"
          ]
        }
      ]
    },
    {
      "cell_type": "code",
      "source": [
        "import numpy as np\n",
        "x = np.random.rand(2)\n",
        "print(x)"
      ],
      "metadata": {
        "colab": {
          "base_uri": "https://localhost:8080/"
        },
        "id": "EwLN9oxmgb19",
        "outputId": "09523241-a1fc-4ae0-8fd9-ee214b5a0043"
      },
      "execution_count": 9,
      "outputs": [
        {
          "output_type": "stream",
          "name": "stdout",
          "text": [
            "[0.384562   0.74797111]\n"
          ]
        }
      ]
    }
  ]
}